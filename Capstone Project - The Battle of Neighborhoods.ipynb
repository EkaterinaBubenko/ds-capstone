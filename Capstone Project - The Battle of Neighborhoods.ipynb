{
    "cells": [
        {
            "metadata": {},
            "cell_type": "markdown",
            "source": "\n# Introduction\n\n## Background Discussion\n\nThe Economist Intelligence Unit's [\"Global Liveability Report\"](https://www.eiu.com/n/) ranks the best places to live in the world, scoring 140 cities in five categories: \n\n1. stability, \n2. healthcare, \n3. culture & environment, \n4. education, and \n5. infrastructure. \n\nIn the article called [\"These Are the 10 Best Places to Live in the World\"](https://www.cntraveler.com/gallery/the-most-livable-cities-in-the-world) updated on *April 23, 2020* the author, Cailin Morton, uses the ranks to identify top 10 places to live in the world.\n\nAccording to the artice /#1 city to live in is Vienna (Austria):\n\nMaintaining its position in the number one spot for the second year in a row, Vienna provides the perfect blend of adventure, affordability, ease of living, and safety. The Austrian capital draws crowds with its Baroque architecture and Danube cruises, but it's just as exciting as a center of what\u2019s new in the culinary and art worlds of Europe. And due to a city government that puts a lot of resources behind infrastructure and housing, the cost of living here is far lower than comparable European cities.\n\n**Overall rating: 99.1**\n- Stability: 100\n- Healthcare: 100\n- Culture & Environment: 96.3\n- Education: 100\n- Infrastructure: 100\n\n## Problem Description\n\nAs you can see 4/5 scores are perfect 100. The only category that did not get a perfect score is \"Culture & Environment\". Therefore, it will be interesting to explore which districts are potentialy most attractive in this particular category. \n\n## Data Description & Methodology\n\nWe will obtain data about discticts from the [Official Statictics of Austria website](https://www.statistik.at/) where we can find data about city's disctricts with postal codes and population data *STATISTIK AUSTRIA, Statistik des Bev\u00f6lkerungsstandes. Erstellt am 12.02.2020. Vorl\u00e4ufige Ergebnisse.* as xlsx file that we will read into  **Pandas** dataframe and prepare it for the further analysis.\n\nThen we will enrich the data with geocoordinates.\n\nAfter that we will use Foursquare API to obtain information about venues in Vienna. \n\nWe will apply various data manipulation, data visualization and machine learning techniques to further explore the data to identify most attractive districts."
        }
    ],
    "metadata": {
        "kernelspec": {
            "name": "python3",
            "display_name": "Python 3.6",
            "language": "python"
        },
        "language_info": {
            "name": "python",
            "version": "3.6.9",
            "mimetype": "text/x-python",
            "codemirror_mode": {
                "name": "ipython",
                "version": 3
            },
            "pygments_lexer": "ipython3",
            "nbconvert_exporter": "python",
            "file_extension": ".py"
        }
    },
    "nbformat": 4,
    "nbformat_minor": 1
}